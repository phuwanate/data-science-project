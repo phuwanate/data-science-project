{
  "nbformat": 4,
  "nbformat_minor": 0,
  "metadata": {
    "colab": {
      "provenance": []
    },
    "kernelspec": {
      "name": "python3",
      "display_name": "Python 3"
    },
    "language_info": {
      "name": "python"
    }
  },
  "cells": [
    {
      "cell_type": "code",
      "execution_count": null,
      "metadata": {
        "id": "oLrhujWB7k1T"
      },
      "outputs": [],
      "source": [
        "import requests as req\n",
        "import time\n",
        "\n",
        "\n",
        "characters = []\n",
        "\n",
        "for i in range(5): #loop i from 0 to 4\n",
        "    url = f\"https://swapi.dev/api/people/{i + 1}\"\n",
        "    resp = req.get(url)\n",
        "\n",
        "    if resp.status_code == 200:\n",
        "        json_data = resp.json()\n",
        "        characters.append(\n",
        "            (json_data[\"name\"],\n",
        "             json_data[\"height\"]) #append as tuple\n",
        "            )\n",
        "    time.sleep(1) #break 1 sec before request API for proctect increase loading on server\n",
        "\n",
        "print(characters)"
      ]
    }
  ]
}