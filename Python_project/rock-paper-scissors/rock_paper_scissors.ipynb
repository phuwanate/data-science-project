{
  "nbformat": 4,
  "nbformat_minor": 0,
  "metadata": {
    "colab": {
      "provenance": []
    },
    "kernelspec": {
      "name": "python3",
      "display_name": "Python 3"
    },
    "language_info": {
      "name": "python"
    }
  },
  "cells": [
    {
      "cell_type": "code",
      "execution_count": null,
      "metadata": {
        "id": "dUyvFj7570nS"
      },
      "outputs": [],
      "source": [
        "## HW01 - create rock paper scissors\n",
        "import random\n",
        "import pandas as pd\n",
        "\n",
        "def init_dataframe(log_b, log_u, log_ans):\n",
        "            bot_df = pd.DataFrame(log_b).reset_index()\n",
        "            bot_df.columns = [\"round\", \"Bot\"]\n",
        "            user_df = pd.DataFrame(log_u).reset_index()\n",
        "            user_df.columns = [\"round\", \"User\"]\n",
        "            log_df = pd.DataFrame(log_ans).reset_index()\n",
        "            log_df.columns = [\"round\", \"result\"]\n",
        "            full_df = pd.merge(bot_df, user_df, on=\"round\").reset_index(drop=True)\n",
        "            full_df[\"result\"] = log_df[\"result\"]\n",
        "            display(full_df)\n",
        "\n",
        "def get_user():\n",
        "    while True:\n",
        "        choice = input()\n",
        "        if choice == \"1\":\n",
        "            return \"rock\"\n",
        "        elif choice == \"2\":\n",
        "            return \"paper\"\n",
        "        elif choice == \"3\":\n",
        "            return \"scissors\"\n",
        "        else:\n",
        "            print(\"Please choose your choice again (only 1, 2 or 3)\")\n",
        "\n",
        "def get_choice():\n",
        "    bot = [\"rock\", \"paper\", \"scissors\"]\n",
        "    return (random.choice(bot))\n",
        "\n",
        "def fight(bot_ans, user_ans, log_ans):\n",
        "    if (bot_ans == user_ans):\n",
        "        log_ans.append(\"draw\")\n",
        "        return(\"Draw!\")\n",
        "    elif ((bot_ans == \"rock\") and user_ans == \"scissors\"):\n",
        "        log_ans.append(\"lose\")\n",
        "        return(\"You lose!\")\n",
        "    elif (bot_ans == \"paper\" and user_ans == \"rock\"):\n",
        "        log_ans.append(\"lose\")\n",
        "        return(\"You lose!\")\n",
        "    elif (bot_ans == \"scissors\" and user_ans == \"paper\"):\n",
        "        log_ans.append(\"lose\")\n",
        "        return(\"You lose!\")\n",
        "    else:\n",
        "        log_ans.append(\"win\")\n",
        "        return(\"You win!\")\n",
        "\n",
        "def main_game():\n",
        "    log_u = []\n",
        "    log_b = []\n",
        "    log_ans = []\n",
        "\n",
        "    while True:\n",
        "        print(\"Please choose your choice : \\n 1 is rock\\n 2 is paper\\n 3 is scissors\")\n",
        "        bot_ans = get_choice()\n",
        "        user_ans = get_user()\n",
        "        log_b.append(bot_ans)\n",
        "        log_u.append(user_ans)\n",
        "        print(fight(bot_ans, user_ans, log_ans))\n",
        "        while True:\n",
        "            print(\"Do you want to try again ?\\n Choose:\\n 1 if Yes \\n 2 if No\")\n",
        "            status = input()\n",
        "            if status == \"2\":\n",
        "                init_dataframe(log_b, log_u, log_ans)\n",
        "                return\n",
        "            elif status == \"1\":\n",
        "                break\n",
        "            else:\n",
        "                print(\"Please choose only 1 or 2 !\")\n"
      ]
    }
  ]
}