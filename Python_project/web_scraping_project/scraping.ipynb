{
  "nbformat": 4,
  "nbformat_minor": 0,
  "metadata": {
    "colab": {
      "provenance": []
    },
    "kernelspec": {
      "name": "python3",
      "display_name": "Python 3"
    },
    "language_info": {
      "name": "python"
    }
  },
  "cells": [
    {
      "cell_type": "code",
      "execution_count": null,
      "metadata": {
        "id": "z_APDd4b6nOg"
      },
      "outputs": [],
      "source": [
        "## import function\n",
        "!pip install gazpacho\n",
        "\n",
        "from gazpacho import Soup\n",
        "import requests as req\n",
        "import pandas as pd\n",
        "\n",
        "# web scraping basics\n",
        "\n",
        "url = \"https://www.imdb.com/search/title/?groups=top_100&sort=user_rating,desc\"\n",
        "\n",
        "html = req.get(url)\n",
        "imdb = Soup(html.text) #simplify .text data with Soup\n",
        "\n",
        "\n",
        "#loop strip with list comprehension\n",
        "title_h3 = imdb.find(\"h3\", {\"class\": \"lister-item-header\"})\n",
        "clean_title = [i.strip() for i in title_h3]\n",
        "\n",
        "## get rating\n",
        "rating = imdb.find(\"div\", {\"class\": \"inline-block ratings-imdb-rating\"})\n",
        "clean_rating = [float(i.strip()) for i in rating]\n",
        "\n",
        "## cleaning function\n",
        "def remove_paren(text):\n",
        "    return int(text.replace('(', '').replace(')', ''))\n",
        "\n",
        "## get lauched year\n",
        "year = imdb.find(\"span\", {\"class\": \"lister-item-year text-muted unbold\"})\n",
        "clean_year = [i.strip() for i in year]\n",
        "clean_year = [remove_paren(i) for i in clean_year]\n",
        "\n",
        "#combine\n",
        "movie_df = pd.DataFrame(data = {\n",
        "    \"title\": clean_title,\n",
        "    \"rating\": clean_rating,\n",
        "    \"year\": clean_year\n",
        "})\n",
        "movie_df.head()"
      ]
    }
  ]
}